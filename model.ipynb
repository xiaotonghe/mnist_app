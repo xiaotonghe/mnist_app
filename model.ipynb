{
 "cells": [
  {
   "cell_type": "code",
   "execution_count": 10,
   "metadata": {},
   "outputs": [],
   "source": [
    "from sklearn.model_selection import train_test_split\n",
    "from sklearn.preprocessing import StandardScaler\n",
    "import numpy as np\n",
    "import pandas as pd\n",
    "import xgboost as xgb"
   ]
  },
  {
   "cell_type": "code",
   "execution_count": 32,
   "metadata": {},
   "outputs": [],
   "source": [
    "train_df = pd.read_csv(\n",
    "    \"/Users/xiaotonghe/Downloads/mnist-flask/data/train.csv\")\n",
    "test_df = pd.read_csv(\"/Users/xiaotonghe/Downloads/mnist-flask/data/test.csv\")\n",
    "\n",
    "\n",
    "sc = StandardScaler()\n",
    "X_std = sc.fit_transform(train_df.values[:, 1:])\n",
    "y = train_df.values[:, 0]\n",
    "\n",
    "test_std = sc.fit_transform(test_df.values)\n",
    "\n",
    "X_train, X_valid, y_train, y_valid = train_test_split(X_std, y, test_size=0.1)\n",
    "# param_list = [(\"eta\", 0.08), (\"max_depth\", 6), (\"subsample\", 0.8), (\"colsample_bytree\", 0.8), (\"objective\",\n",
    "#                                                                                                \"multi:softmax\"), (\"eval_metric\", \"merror\"), (\"alpha\", 8), (\"lambda\", 2), (\"num_class\", 10)]\n",
    "# n_rounds = 100\n",
    "# early_stopping = 50\n",
    "\n",
    "# d_train = xgb.DMatrix(X_train, label=y_train)\n",
    "# d_val = xgb.DMatrix(X_valid, label=y_valid)\n",
    "# eval_list = [(d_train, \"train\"), (d_val, \"validation\")]\n",
    "# bst = xgb.train(param_list, d_train, n_rounds, evals=eval_list,\n",
    "#                 early_stopping_rounds=early_stopping, verbose_eval=True)\n"
   ]
  },
  {
   "cell_type": "code",
   "execution_count": 31,
   "metadata": {},
   "outputs": [],
   "source": [
    "# import pickle\n",
    "# file_name = \"xgb_reg.pkl\"\n",
    "\n",
    "# # save\n",
    "# pickle.dump(bst, open(file_name, \"wb\"))"
   ]
  },
  {
   "cell_type": "code",
   "execution_count": 37,
   "metadata": {},
   "outputs": [
    {
     "data": {
      "image/png": "[encoded data removed]",
      "text/plain": [
       "<Figure size 144x720 with 1 Axes>"
      ]
     },
     "metadata": {
      "needs_background": "light"
     },
     "output_type": "display_data"
    }
   ],
   "source": [
    "%matplotlib inline\n",
    "import matplotlib.pyplot as plt\n",
    "\n",
    "plt.rcParams[\"figure.figsize\"] = (2,10)\n",
    "x = imread('output.png')\n",
    "x = test_std[4]\n",
    "# re = resize(x,(28,28))\n",
    "imgplot = plt.imshow(re, cmap='gray')\n",
    "\n",
    "plt.show()\n"
   ]
  },
  {
   "cell_type": "code",
   "execution_count": 3,
   "metadata": {},
   "outputs": [],
   "source": [
    "import pickle\n",
    "model = pickle.load(open('xgb_reg.pkl', \"rb\"))"
   ]
  },
  {
   "cell_type": "code",
   "execution_count": 39,
   "metadata": {},
   "outputs": [
    {
     "data": {
      "text/plain": [
       "8"
      ]
     },
     "execution_count": 39,
     "metadata": {},
     "output_type": "execute_result"
    }
   ],
   "source": [
    "# output image\n",
    "from matplotlib.pyplot import imread\n",
    "from skimage.transform import resize\n",
    "x = imread('output.png')\n",
    "# x = np.invert(x)\n",
    "x = resize(x,(28,28,1))\n",
    "x = np.array(x).reshape((1, -1))\n",
    "x = xgb.DMatrix(x)\n",
    "out = int(model.predict(x))\n",
    "out"
   ]
  },
  {
   "cell_type": "code",
   "execution_count": 43,
   "metadata": {},
   "outputs": [
    {
     "data": {
      "text/plain": [
       "5"
      ]
     },
     "execution_count": 43,
     "metadata": {},
     "output_type": "execute_result"
    }
   ],
   "source": [
    "# predict from test set\n",
    "num = test_std[10]\n",
    "num = np.array(num).reshape((1,-1))\n",
    "num = xgb.DMatrix(num)\n",
    "y_pred = model.predict(num)\n",
    "int(y_pred)"
   ]
  },
  {
   "cell_type": "code",
   "execution_count": 42,
   "metadata": {},
   "outputs": [
    {
     "data": {
      "text/plain": [
       "(1, 784)"
      ]
     },
     "execution_count": 42,
     "metadata": {},
     "output_type": "execute_result"
    }
   ],
   "source": [
    "im = imread('output.png')\n",
    "im = resize(im,(28,28,1))\n",
    "im = np.array(im).reshape((1,-1))\n",
    "im.shape"
   ]
  },
  {
   "cell_type": "code",
   "execution_count": null,
   "metadata": {},
   "outputs": [],
   "source": []
  }
 ],
 "metadata": {
  "kernelspec": {
   "display_name": "Python 3",
   "language": "python",
   "name": "python3"
  },
  "language_info": {
   "codemirror_mode": {
    "name": "ipython",
    "version": 3
   },
   "file_extension": ".py",
   "mimetype": "text/x-python",
   "name": "python",
   "nbconvert_exporter": "python",
   "pygments_lexer": "ipython3",
   "version": "3.8.3"
  }
 },
 "nbformat": 4,
 "nbformat_minor": 4
}
